{
 "cells": [
  {
   "cell_type": "markdown",
   "metadata": {},
   "source": [
    "# Step 6: Calculate p values per segment"
   ]
  },
  {
   "cell_type": "code",
   "execution_count": 9,
   "metadata": {},
   "outputs": [
    {
     "name": "stdout",
     "output_type": "stream",
     "text": [
      "The autoreload extension is already loaded. To reload it, use:\n",
      "  %reload_ext autoreload\n"
     ]
    }
   ],
   "source": [
    "%load_ext autoreload"
   ]
  },
  {
   "cell_type": "code",
   "execution_count": 10,
   "metadata": {},
   "outputs": [],
   "source": [
    "%autoreload 2"
   ]
  },
  {
   "cell_type": "code",
   "execution_count": 18,
   "metadata": {},
   "outputs": [],
   "source": [
    "try:\n",
    "    from ltrack import config\n",
    "    from ltrack import local_matplotlibrc\n",
    "    from ltrack.lineage import file_parser as file_parser\n",
    "    import ltrack.lineage.inference_params as inference_params\n",
    "    import ltrack.lineage.file_parser as file_parser\n",
    "    from ltrack.lineage.fitness_estimator import *\n",
    "    from ltrack.lineage.read_clone_data import *\n",
    "\n",
    "    from ltrack.lineage.read_clone_data import *\n",
    "    from ltrack.lineage.plot_utils_clone import * # contains muller and bar chart class\n",
    "    from ltrack.lineage.tree_utils import *\n",
    "    import ltrack.lineage.inference_params\n",
    "    \n",
    "except ImportError:\n",
    "    print(\"Please install the LineageTracking package by running the command line 'pip install .' in the lineage_tracking repository's root directory.\")\n",
    "    raise\n",
    "except: raise"
   ]
  },
  {
   "cell_type": "code",
   "execution_count": 19,
   "metadata": {},
   "outputs": [],
   "source": [
    "import sys, os, glob, csv, re\n",
    "import string, math, numpy\n",
    "import matplotlib\n",
    "import matplotlib.pyplot as plt\n",
    "import matplotlib.cm as cm\n",
    "import matplotlib.colors as col\n",
    "import matplotlib.patches as patches\n",
    "import argparse\n",
    "from scipy.special import erf\n",
    "from copy import deepcopy\n",
    "import matplotlib.gridspec as gridspec\n",
    "import itertools\n",
    "from scipy import stats"
   ]
  },
  {
   "cell_type": "code",
   "execution_count": 20,
   "metadata": {},
   "outputs": [],
   "source": [
    "project_name = os.path.basename(os.getcwd())"
   ]
  },
  {
   "cell_type": "code",
   "execution_count": 21,
   "metadata": {},
   "outputs": [],
   "source": [
    "population = project_name"
   ]
  },
  {
   "cell_type": "code",
   "execution_count": 22,
   "metadata": {},
   "outputs": [],
   "source": [
    "def find_last_parent(ID,population_tree):\n",
    "    if ID == \"\":\n",
    "        return ''\n",
    "    else:\n",
    "        parents = ancestor_list(ID,population_tree)\n",
    "        i = 0\n",
    "        for p_ID in parents:\n",
    "            i+= 1\n",
    "        if i > 0:\n",
    "            return p_ID\n",
    "        else:\n",
    "            return ''"
   ]
  },
  {
   "cell_type": "code",
   "execution_count": 23,
   "metadata": {},
   "outputs": [],
   "source": [
    "popindex = 0\n",
    "max_barcode = config.max_barcode[population]"
   ]
  },
  {
   "cell_type": "code",
   "execution_count": 24,
   "metadata": {},
   "outputs": [
    {
     "name": "stderr",
     "output_type": "stream",
     "text": [
      " reading freq files...\n",
      " reading clone list\n",
      " reading fitness inferences...\n"
     ]
    }
   ],
   "source": [
    "clone_list, times, clone_dict, lineage_dict, population_tree = read_clone_data(population)"
   ]
  },
  {
   "cell_type": "code",
   "execution_count": 25,
   "metadata": {},
   "outputs": [],
   "source": [
    "population_tree = {\"\":population_tree}\n",
    "mutant_tree = population_tree[\"\"]\n",
    "clone_list.append(\"\")"
   ]
  },
  {
   "cell_type": "code",
   "execution_count": 26,
   "metadata": {},
   "outputs": [],
   "source": [
    "mean_average_fitness = numpy.zeros(inference_params.INTERVALS_PER_EPOCH*max_barcode)"
   ]
  },
  {
   "cell_type": "code",
   "execution_count": 28,
   "metadata": {},
   "outputs": [],
   "source": [
    "for ID in clone_list:\n",
    "    clone = clone_dict[ID]\n",
    "    mean_average_fitness += 100.* clone.evolution_fitness * clone.freqs[:inference_params.INTERVALS_PER_EPOCH*max_barcode]\n",
    "    mean_average_fitness += clone.barcoding_fitness * clone.freqs[:inference_params.INTERVALS_PER_EPOCH*max_barcode]"
   ]
  },
  {
   "cell_type": "code",
   "execution_count": 29,
   "metadata": {},
   "outputs": [],
   "source": [
    "mean_average_fitness /= 2."
   ]
  },
  {
   "cell_type": "code",
   "execution_count": 30,
   "metadata": {},
   "outputs": [],
   "source": [
    "clone_dict[''].color = 'k'"
   ]
  },
  {
   "cell_type": "code",
   "execution_count": 31,
   "metadata": {},
   "outputs": [],
   "source": [
    "no_descendants = numpy.zeros((len(clone_list),max_barcode-1))\n",
    "weights = numpy.zeros((len(clone_list),max_barcode-1))\n",
    "relative_fitnesses = numpy.zeros((len(clone_list),max_barcode-1))\n",
    "\n",
    "total_mutations = len(clone_list) - 1\n",
    "average_fitness_effects = numpy.zeros(total_mutations)"
   ]
  },
  {
   "cell_type": "code",
   "execution_count": 32,
   "metadata": {},
   "outputs": [
    {
     "ename": "StopIteration",
     "evalue": "",
     "output_type": "error",
     "traceback": [
      "\u001b[0;31m---------------------------------------------------------------------------\u001b[0m",
      "\u001b[0;31mStopIteration\u001b[0m                             Traceback (most recent call last)",
      "\u001b[0;32m<ipython-input-32-9fdaecf68d96>\u001b[0m in \u001b[0;36m<module>\u001b[0;34m\u001b[0m\n\u001b[1;32m      5\u001b[0m \u001b[0;34m\u001b[0m\u001b[0m\n\u001b[1;32m      6\u001b[0m     \u001b[0;32mif\u001b[0m \u001b[0mclone_list\u001b[0m\u001b[0;34m[\u001b[0m\u001b[0mi\u001b[0m\u001b[0;34m]\u001b[0m \u001b[0;34m!=\u001b[0m \u001b[0;34m\"\"\u001b[0m\u001b[0;34m:\u001b[0m\u001b[0;34m\u001b[0m\u001b[0;34m\u001b[0m\u001b[0m\n\u001b[0;32m----> 7\u001b[0;31m         \u001b[0mdescendants\u001b[0m \u001b[0;34m=\u001b[0m \u001b[0mchild_list\u001b[0m\u001b[0;34m(\u001b[0m\u001b[0mclone_list\u001b[0m\u001b[0;34m[\u001b[0m\u001b[0mi\u001b[0m\u001b[0;34m]\u001b[0m\u001b[0;34m,\u001b[0m\u001b[0mpopulation_tree\u001b[0m\u001b[0;34m)\u001b[0m\u001b[0;34m\u001b[0m\u001b[0;34m\u001b[0m\u001b[0m\n\u001b[0m\u001b[1;32m      8\u001b[0m \u001b[0;34m\u001b[0m\u001b[0m\n\u001b[1;32m      9\u001b[0m         \u001b[0mparent_ID\u001b[0m \u001b[0;34m=\u001b[0m \u001b[0mfind_last_parent\u001b[0m\u001b[0;34m(\u001b[0m\u001b[0mID\u001b[0m\u001b[0;34m,\u001b[0m \u001b[0mpopulation_tree\u001b[0m\u001b[0;34m)\u001b[0m\u001b[0;34m\u001b[0m\u001b[0;34m\u001b[0m\u001b[0m\n",
      "\u001b[0;32m~/Repositories/lineage-tracking/ltrack/lineage/tree_utils.py\u001b[0m in \u001b[0;36mchild_list\u001b[0;34m(parent_ID, tree)\u001b[0m\n\u001b[1;32m     19\u001b[0m         \u001b[0;32mreturn\u001b[0m \u001b[0mtree\u001b[0m\u001b[0;34m[\u001b[0m\u001b[0mcandidate\u001b[0m\u001b[0;34m]\u001b[0m\u001b[0;34m.\u001b[0m\u001b[0mkeys\u001b[0m\u001b[0;34m(\u001b[0m\u001b[0;34m)\u001b[0m\u001b[0;34m\u001b[0m\u001b[0;34m\u001b[0m\u001b[0m\n\u001b[1;32m     20\u001b[0m     \u001b[0;32melse\u001b[0m\u001b[0;34m:\u001b[0m\u001b[0;34m\u001b[0m\u001b[0;34m\u001b[0m\u001b[0m\n\u001b[0;32m---> 21\u001b[0;31m         \u001b[0;32mreturn\u001b[0m \u001b[0mchild_list\u001b[0m\u001b[0;34m(\u001b[0m\u001b[0mparent_ID\u001b[0m\u001b[0;34m,\u001b[0m \u001b[0mtree\u001b[0m\u001b[0;34m[\u001b[0m\u001b[0mcandidate\u001b[0m\u001b[0;34m]\u001b[0m\u001b[0;34m)\u001b[0m\u001b[0;34m\u001b[0m\u001b[0;34m\u001b[0m\u001b[0m\n\u001b[0m\u001b[1;32m     22\u001b[0m \u001b[0;34m\u001b[0m\u001b[0m\n\u001b[1;32m     23\u001b[0m \u001b[0;32mdef\u001b[0m \u001b[0mancestor_list\u001b[0m\u001b[0;34m(\u001b[0m\u001b[0mchild_ID\u001b[0m\u001b[0;34m,\u001b[0m \u001b[0mtree\u001b[0m\u001b[0;34m)\u001b[0m\u001b[0;34m:\u001b[0m\u001b[0;34m\u001b[0m\u001b[0;34m\u001b[0m\u001b[0m\n",
      "\u001b[0;32m~/Repositories/lineage-tracking/ltrack/lineage/tree_utils.py\u001b[0m in \u001b[0;36mchild_list\u001b[0;34m(parent_ID, tree)\u001b[0m\n\u001b[1;32m     19\u001b[0m         \u001b[0;32mreturn\u001b[0m \u001b[0mtree\u001b[0m\u001b[0;34m[\u001b[0m\u001b[0mcandidate\u001b[0m\u001b[0;34m]\u001b[0m\u001b[0;34m.\u001b[0m\u001b[0mkeys\u001b[0m\u001b[0;34m(\u001b[0m\u001b[0;34m)\u001b[0m\u001b[0;34m\u001b[0m\u001b[0;34m\u001b[0m\u001b[0m\n\u001b[1;32m     20\u001b[0m     \u001b[0;32melse\u001b[0m\u001b[0;34m:\u001b[0m\u001b[0;34m\u001b[0m\u001b[0;34m\u001b[0m\u001b[0m\n\u001b[0;32m---> 21\u001b[0;31m         \u001b[0;32mreturn\u001b[0m \u001b[0mchild_list\u001b[0m\u001b[0;34m(\u001b[0m\u001b[0mparent_ID\u001b[0m\u001b[0;34m,\u001b[0m \u001b[0mtree\u001b[0m\u001b[0;34m[\u001b[0m\u001b[0mcandidate\u001b[0m\u001b[0;34m]\u001b[0m\u001b[0;34m)\u001b[0m\u001b[0;34m\u001b[0m\u001b[0;34m\u001b[0m\u001b[0m\n\u001b[0m\u001b[1;32m     22\u001b[0m \u001b[0;34m\u001b[0m\u001b[0m\n\u001b[1;32m     23\u001b[0m \u001b[0;32mdef\u001b[0m \u001b[0mancestor_list\u001b[0m\u001b[0;34m(\u001b[0m\u001b[0mchild_ID\u001b[0m\u001b[0;34m,\u001b[0m \u001b[0mtree\u001b[0m\u001b[0;34m)\u001b[0m\u001b[0;34m:\u001b[0m\u001b[0;34m\u001b[0m\u001b[0;34m\u001b[0m\u001b[0m\n",
      "\u001b[0;32m~/Repositories/lineage-tracking/ltrack/lineage/tree_utils.py\u001b[0m in \u001b[0;36mchild_list\u001b[0;34m(parent_ID, tree)\u001b[0m\n\u001b[1;32m     15\u001b[0m \u001b[0;34m\u001b[0m\u001b[0m\n\u001b[1;32m     16\u001b[0m \u001b[0;32mdef\u001b[0m \u001b[0mchild_list\u001b[0m\u001b[0;34m(\u001b[0m\u001b[0mparent_ID\u001b[0m\u001b[0;34m,\u001b[0m \u001b[0mtree\u001b[0m\u001b[0;34m)\u001b[0m\u001b[0;34m:\u001b[0m\u001b[0;34m\u001b[0m\u001b[0;34m\u001b[0m\u001b[0m\n\u001b[0;32m---> 17\u001b[0;31m     \u001b[0mcandidate\u001b[0m \u001b[0;34m=\u001b[0m \u001b[0mnext\u001b[0m\u001b[0;34m(\u001b[0m\u001b[0mitem\u001b[0m \u001b[0;32mfor\u001b[0m \u001b[0mitem\u001b[0m \u001b[0;32min\u001b[0m \u001b[0mtree\u001b[0m\u001b[0;34m.\u001b[0m\u001b[0mkeys\u001b[0m\u001b[0;34m(\u001b[0m\u001b[0;34m)\u001b[0m \u001b[0;32mif\u001b[0m \u001b[0mparent_ID\u001b[0m\u001b[0;34m.\u001b[0m\u001b[0mstartswith\u001b[0m\u001b[0;34m(\u001b[0m\u001b[0mitem\u001b[0m\u001b[0;34m)\u001b[0m\u001b[0;34m)\u001b[0m\u001b[0;34m\u001b[0m\u001b[0;34m\u001b[0m\u001b[0m\n\u001b[0m\u001b[1;32m     18\u001b[0m     \u001b[0;32mif\u001b[0m \u001b[0mcandidate\u001b[0m \u001b[0;34m==\u001b[0m \u001b[0mparent_ID\u001b[0m\u001b[0;34m:\u001b[0m\u001b[0;34m\u001b[0m\u001b[0;34m\u001b[0m\u001b[0m\n\u001b[1;32m     19\u001b[0m         \u001b[0;32mreturn\u001b[0m \u001b[0mtree\u001b[0m\u001b[0;34m[\u001b[0m\u001b[0mcandidate\u001b[0m\u001b[0;34m]\u001b[0m\u001b[0;34m.\u001b[0m\u001b[0mkeys\u001b[0m\u001b[0;34m(\u001b[0m\u001b[0;34m)\u001b[0m\u001b[0;34m\u001b[0m\u001b[0;34m\u001b[0m\u001b[0m\n",
      "\u001b[0;31mStopIteration\u001b[0m: "
     ]
    }
   ],
   "source": [
    "for i in range(0,len(clone_list)):\n",
    "    clone = clone_dict[clone_list[i]]\n",
    "    arising_time = len(clone_list[i].split(\"_\")) - 1\n",
    "    ID = clone.ID\n",
    "\n",
    "    if clone_list[i] != \"\":\n",
    "        descendants = child_list(clone_list[i],population_tree)\n",
    "\n",
    "        parent_ID = find_last_parent(ID, population_tree)\n",
    "        ev_diff = clone_dict[ID].evolution_fitness - clone_dict[parent_ID].evolution_fitness\n",
    "        bc_diff = clone_dict[ID].barcoding_fitness - clone_dict[parent_ID].barcoding_fitness\n",
    "\n",
    "        average_fitness_effects[i] = (100.*ev_diff+bc_diff)/2.\n",
    "    else:\n",
    "        descendants = mutant_tree.keys()\n",
    "\n",
    "    for epoch in range(2,max_barcode-1):\n",
    "        no_descendants[i][epoch] = sum(1 for item in descendants if len(item.split(\"_\")) == epoch + 1)\n",
    "        weights[i][epoch] = numpy.sum(clone.freqs[11*epoch:11*(epoch+1)])\n",
    "\n",
    "        average_fitness = (clone.evolution_fitness*100. + clone.barcoding_fitness)/2.\n",
    "        relative_fitnesses[i][epoch]= average_fitness - sum(mean_average_fitness[11*epoch:11*(epoch+1)])/11."
   ]
  },
  {
   "cell_type": "code",
   "execution_count": 4,
   "metadata": {},
   "outputs": [],
   "source": [
    "old_weights = deepcopy(weights)\n",
    "old_shape = weights.shape"
   ]
  },
  {
   "cell_type": "code",
   "execution_count": 4,
   "metadata": {},
   "outputs": [],
   "source": [
    "frequency_weights = weights.flatten()\n",
    "# frequency_weights /= sum(frequency_weights)\n",
    "\n",
    "if (frequency_weights[frequency_weights<0])<-10**-4:\n",
    "    print(\"Warning! Found a lineage with negative frequency.\")\n",
    "frequency_weights[frequency_weights<0] = 0.\n",
    "\n",
    "mutation_weights = numpy.ones((total_mutations,len(frequency_weights)))\n",
    "mutation_weights *= frequency_weights"
   ]
  },
  {
   "cell_type": "code",
   "execution_count": 4,
   "metadata": {},
   "outputs": [],
   "source": [
    "for model in ['frequency','frequency_plus_fitness']:\n",
    "    print(population, model)\n",
    "    for mut_it in range(0,total_mutations):\n",
    "\n",
    "        if model == 'frequency_plus_fitness':\n",
    "            fit_weights = relative_fitnesses.flatten()\n",
    "            fit_weights += average_fitness_effects[mut_it]\n",
    "            percent_threshold = 5*10**-5\n",
    "            fit_weights[fit_weights < 100*percent_threshold] = 0.\n",
    "            mutation_weights[mut_it]*= fit_weights\n",
    "\n",
    "        mutation_weights[mut_it] /= sum(mutation_weights[mut_it])\n",
    "\n",
    "    # resample all mutations\n",
    "    number_of_trials = 10**4\n",
    "    mutations_in_trial = numpy.zeros((number_of_trials,len(clone_list)*(max_barcode-1)))\n",
    "\n",
    "\n",
    "    for n in range(0,number_of_trials):\n",
    "        for mut_it in range(0,total_mutations):\n",
    "            w = mutation_weights[mut_it]\n",
    "            mutant_background = numpy.random.choice(numpy.arange(0,len(w)),size = 1,p = w)\n",
    "            mutations_in_trial[n][mutant_background] += 1\n",
    "\n",
    "    no_descendants = no_descendants.flatten()\n",
    "    p_values_more = numpy.zeros(len(clone_list)*(max_barcode-1))\n",
    "    for i in range(0,len(p_values_more)):\n",
    "        p_values_more[i] = sum(1 for trial in range(0, number_of_trials) if mutations_in_trial[trial][i] >= no_descendants[i])\n",
    "        p_values_more[i] /= 1.*number_of_trials\n",
    "\n",
    "\n",
    "    p_values_less = numpy.zeros(len(p_values_more))\n",
    "    for i in range(0,len(p_values_less)):\n",
    "        p_values_less[i] = sum(1 for trial in range(0, number_of_trials) if mutations_in_trial[trial][i] <= no_descendants[i])\n",
    "        p_values_less[i] /= 1.*number_of_trials\n",
    "\n",
    "    with open(config.clone_data_directory+'%s-p_values_segment_%s.tsv' % (population,model), 'w') as csvfile:\n",
    "        out_writer = csv.writer(csvfile, delimiter='\\t', quotechar='|', quoting=csv.QUOTE_MINIMAL)\n",
    "        out_writer.writerow(['BC'] + ['P-gtreq'] + ['P-lesseq'])\n",
    "\n",
    "        for i in range(0,len(clone_list)):\n",
    "            ID = clone_list[i]\n",
    "            row = [ID]\n",
    "            first = i*(max_barcode-1)\n",
    "            last = (i+1)*(max_barcode-1)\n",
    "            row.extend(p_values_more[first:last])\n",
    "            row.extend(p_values_less[first:last])\n",
    "            out_writer.writerow(row)\n",
    "\n",
    "     # now calculate the same for each clone\n",
    "    order = 'C'\n",
    "    mutations_in_trial = mutations_in_trial.reshape((number_of_trials,len(clone_list),max_barcode-1),order = order)\n",
    "    no_descendants = no_descendants.reshape((len(clone_list),max_barcode-1))\n",
    "    total_mutations_per_clone = numpy.sum(mutations_in_trial,axis = 2)\n",
    "    experiment_mutations_per_clone = numpy.sum(no_descendants,axis = 1)\n",
    "\n",
    "    p_values_more = numpy.zeros(len(clone_list))\n",
    "    for i in range(0,len(clone_list)):\n",
    "        p_values_more[i] = sum(1 for trial in range(0, number_of_trials) if total_mutations_per_clone[trial][i] >= experiment_mutations_per_clone[i])\n",
    "        p_values_more[i] /= 1.*number_of_trials\n",
    "\n",
    "\n",
    "    p_values_less = numpy.zeros(len(clone_list))\n",
    "    for i in range(0,len(clone_list)):\n",
    "        p_values_less[i] = sum(1 for trial in range(0, number_of_trials) if total_mutations_per_clone[trial][i] <= experiment_mutations_per_clone[i])\n",
    "        p_values_less[i] /= 1.*number_of_trials\n",
    "\n",
    "    with open(config.clone_data_directory+'%s-p_values_%s.tsv' % (population,model), 'w') as csvfile:\n",
    "        out_writer = csv.writer(csvfile, delimiter='\\t', quotechar='|', quoting=csv.QUOTE_MINIMAL)\n",
    "        out_writer.writerow(['BC'] + ['P-gtreq'] + ['P-lesseq'])\n",
    "\n",
    "        for i in range(0,len(clone_list)):\n",
    "            ID = clone_list[i]\n",
    "            row = [ID]\n",
    "            row.extend([p_values_more[i]])\n",
    "            row.extend([p_values_less[i]])\n",
    "            out_writer.writerow(row)"
   ]
  },
  {
   "cell_type": "code",
   "execution_count": null,
   "metadata": {},
   "outputs": [],
   "source": []
  }
 ],
 "metadata": {
  "kernelspec": {
   "display_name": "barcoding",
   "language": "python",
   "name": "barcoding"
  },
  "language_info": {
   "codemirror_mode": {
    "name": "ipython",
    "version": 3
   },
   "file_extension": ".py",
   "mimetype": "text/x-python",
   "name": "python",
   "nbconvert_exporter": "python",
   "pygments_lexer": "ipython3",
   "version": "3.8.6"
  }
 },
 "nbformat": 4,
 "nbformat_minor": 4
}
