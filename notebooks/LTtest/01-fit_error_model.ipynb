{
 "cells": [
  {
   "cell_type": "code",
   "execution_count": 1,
   "metadata": {},
   "outputs": [],
   "source": [
    "%load_ext autoreload"
   ]
  },
  {
   "cell_type": "code",
   "execution_count": 2,
   "metadata": {},
   "outputs": [],
   "source": [
    "%autoreload 2"
   ]
  },
  {
   "cell_type": "code",
   "execution_count": 3,
   "metadata": {},
   "outputs": [],
   "source": [
    "import sys, os, glob, csv, re\n",
    "import string, math, numpy\n",
    "import os\n",
    "import logging\n",
    "from matplotlib import pyplot\n",
    "import matplotlib"
   ]
  },
  {
   "cell_type": "code",
   "execution_count": 4,
   "metadata": {},
   "outputs": [],
   "source": [
    "pyplot.style.use('dark_background')\n",
    "logging.basicConfig(level=logging.INFO)"
   ]
  },
  {
   "cell_type": "code",
   "execution_count": 5,
   "metadata": {},
   "outputs": [],
   "source": [
    "try:\n",
    "    from ltrack import config\n",
    "    import ltrack.lineage.inference_params as inference_params\n",
    "    import ltrack.lineage.file_parser as file_parser\n",
    "except ImportError:\n",
    "    print(\"Please install the LineageTracking package by running the command line 'pip install .' in the lineage_tracking repository's root directory.\")\n",
    "    raise\n",
    "except: raise"
   ]
  },
  {
   "cell_type": "code",
   "execution_count": 6,
   "metadata": {},
   "outputs": [],
   "source": [
    "project_name = os.path.basename(os.getcwd())"
   ]
  },
  {
   "cell_type": "code",
   "execution_count": 7,
   "metadata": {},
   "outputs": [],
   "source": [
    "# look only at lineages within specified size range\n",
    "drifting_lineage_size_range = inference_params.drifting_lineage_size_range"
   ]
  },
  {
   "cell_type": "code",
   "execution_count": 8,
   "metadata": {},
   "outputs": [],
   "source": [
    "INTERVALS_PER_EPOCH = inference_params.INTERVALS_PER_EPOCH\n",
    "EVOLUTION_INTERVALS_PER_EPOCH = inference_params.EVOLUTION_INTERVALS_PER_EPOCH\n",
    "NUMBER_OF_EPOCHS = inference_params.NUMBER_OF_EPOCHS"
   ]
  },
  {
   "cell_type": "code",
   "execution_count": 9,
   "metadata": {},
   "outputs": [],
   "source": [
    "population = project_name"
   ]
  },
  {
   "cell_type": "code",
   "execution_count": 10,
   "metadata": {},
   "outputs": [
    {
     "name": "stderr",
     "output_type": "stream",
     "text": [
      "INFO:root:Processing population LTtest.\n",
      "INFO:root:Reading files.\n",
      "INFO:root:Reading fitness inferences complete.\n"
     ]
    }
   ],
   "source": [
    "timepoints, data, counts = file_parser.get_data(\n",
    "    population,\n",
    "    config.barcode_data_root_directory,\n",
    "    as_matrix = True\n",
    ")"
   ]
  },
  {
   "cell_type": "code",
   "execution_count": 11,
   "metadata": {},
   "outputs": [],
   "source": [
    "count_data = [data[i]*counts[INTERVALS_PER_EPOCH*i:] for i in range(0,len(data))]"
   ]
  },
  {
   "cell_type": "code",
   "execution_count": 12,
   "metadata": {},
   "outputs": [],
   "source": [
    "max_barcode = config.max_barcode[population]\n",
    "# sort count data on min size in first epoch"
   ]
  },
  {
   "cell_type": "code",
   "execution_count": 13,
   "metadata": {},
   "outputs": [],
   "source": [
    "arrinds= [numpy.argsort(numpy.min(count_data[i].T[:INTERVALS_PER_EPOCH],axis = 0)) for i in range(0,len(data))]\n",
    "sorted_mins = [numpy.min(count_data[i].T[:INTERVALS_PER_EPOCH],axis = 0)[arrinds[i][::-1]] for i in range(0,len(data))]\n",
    "sorted_count_data = [count_data[i][arrinds[i][::-1]] for i in range(0,len(data))]"
   ]
  },
  {
   "cell_type": "code",
   "execution_count": 14,
   "metadata": {},
   "outputs": [
    {
     "name": "stderr",
     "output_type": "stream",
     "text": [
      "INFO:root:Fitting kappas.\n"
     ]
    }
   ],
   "source": [
    "logging.info('Fitting kappas.')\n",
    "\n",
    "kappas = numpy.zeros(len(timepoints[0])-1)\n",
    "kappa_errors = numpy.zeros(len(timepoints[0])-1)\n",
    "ns = numpy.zeros(len(timepoints[0])-1)"
   ]
  },
  {
   "cell_type": "code",
   "execution_count": 15,
   "metadata": {},
   "outputs": [],
   "source": [
    "for timepoint in range(0,max_barcode*INTERVALS_PER_EPOCH-1):\n",
    "#     for timepoint in range(0,NUMBER_OF_EPOCHS*INTERVALS_PER_EPOCH-1):\n",
    "\n",
    "    epoch = timepoint // INTERVALS_PER_EPOCH\n",
    "    t = timepoint % INTERVALS_PER_EPOCH\n",
    "\n",
    "    counts_before, counts_after = sorted_count_data[epoch].T[t],sorted_count_data[epoch].T[t+1]\n",
    "    counts_before = numpy.asarray(counts_before,dtype = float)\n",
    "    counts_after = numpy.asarray(counts_after,dtype = float)\n",
    "\n",
    "    before_filter = numpy.logical_and(counts_before <= drifting_lineage_size_range[1], counts_before >= drifting_lineage_size_range[0])\n",
    "    counts_after = counts_after[before_filter]\n",
    "    counts_before = counts_before[before_filter]\n",
    "    scaled_counts_before = counts_before * counts[INTERVALS_PER_EPOCH*epoch+t+1]/counts[INTERVALS_PER_EPOCH*epoch+t]\n",
    "    n = len(counts_before)\n",
    "\n",
    "    kappas[INTERVALS_PER_EPOCH*epoch + t] = 2* ((numpy.sqrt(counts_after) - numpy.sqrt(scaled_counts_before))**2).sum()/n\n",
    "    kappa_errors[INTERVALS_PER_EPOCH*epoch+t] =kappas[INTERVALS_PER_EPOCH*epoch + t]* numpy.sqrt(2./n)\n",
    "    ns[INTERVALS_PER_EPOCH*epoch+t] = n"
   ]
  },
  {
   "cell_type": "code",
   "execution_count": 16,
   "metadata": {},
   "outputs": [],
   "source": [
    "# Fix zeroes as these will cause DivideByZeros later.\n",
    "zero_kappas =  kappas==0.0\n",
    "kappas[zero_kappas] = 100.0\n",
    "kappa_errors[zero_kappas] = 10.0\n",
    "kappa_CI_lower = kappas - 2 *kappa_errors\n",
    "kappa_CI_upper = kappas + 2* kappa_errors"
   ]
  },
  {
   "cell_type": "code",
   "execution_count": 17,
   "metadata": {},
   "outputs": [
    {
     "data": {
      "text/plain": [
       "(9,)"
      ]
     },
     "execution_count": 17,
     "metadata": {},
     "output_type": "execute_result"
    }
   ],
   "source": [
    "kappas.shape\n"
   ]
  },
  {
   "cell_type": "code",
   "execution_count": 18,
   "metadata": {},
   "outputs": [
    {
     "data": {
      "text/plain": [
       "10"
      ]
     },
     "execution_count": 18,
     "metadata": {},
     "output_type": "execute_result"
    }
   ],
   "source": [
    "len(timepoints[0])"
   ]
  },
  {
   "cell_type": "code",
   "execution_count": 19,
   "metadata": {},
   "outputs": [
    {
     "data": {
      "text/plain": [
       "<ErrorbarContainer object of 3 artists>"
      ]
     },
     "execution_count": 19,
     "metadata": {},
     "output_type": "execute_result"
    },
    {
     "data": {
      "image/png": "[encoded data removed]",
      "text/plain": [
       "<Figure size 432x288 with 1 Axes>"
      ]
     },
     "metadata": {},
     "output_type": "display_data"
    }
   ],
   "source": [
    "fig, ax = pyplot.subplots()\n",
    "ax.errorbar(x=timepoints[0][1:], y=kappas, yerr=2*kappa_errors)"
   ]
  },
  {
   "cell_type": "code",
   "execution_count": 20,
   "metadata": {},
   "outputs": [],
   "source": [
    "with open(config.error_model_directory+'%s-kappas.tsv' % (population), 'w') as csvfile:\n",
    "    out_writer = csv.writer(csvfile, delimiter='\\t', quotechar='|', quoting=csv.QUOTE_MINIMAL)\n",
    "    out_writer.writerow(timepoints[0][1:])\n",
    "    out_writer.writerow([\"{0:.2f}\".format(x) for x in kappas])\n",
    "    out_writer.writerow([\"{0:.2f}\".format(x) for x in kappa_CI_lower])\n",
    "    out_writer.writerow([\"{0:.2f}\".format(x) for x in kappa_CI_upper])\n",
    "    out_writer.writerow([\"{0:.2f}\".format(x) for x in ns])"
   ]
  },
  {
   "cell_type": "code",
   "execution_count": 21,
   "metadata": {},
   "outputs": [],
   "source": [
    "with open(config.error_model_directory+'%s-kappas-barcoding.tsv' % (population), 'w') as csvfile:\n",
    "    out_writer = csv.writer(csvfile, delimiter='\\t', quotechar='|', quoting=csv.QUOTE_MINIMAL)\n",
    "    out_writer.writerow(timepoints[0][INTERVALS_PER_EPOCH::INTERVALS_PER_EPOCH])\n",
    "    out_writer.writerow([\"{0:.2f}\".format(x) for x in kappas[EVOLUTION_INTERVALS_PER_EPOCH::INTERVALS_PER_EPOCH]])\n",
    "    out_writer.writerow([\"{0:.2f}\".format(x) for x in kappa_CI_lower[EVOLUTION_INTERVALS_PER_EPOCH::INTERVALS_PER_EPOCH]])\n",
    "    out_writer.writerow([\"{0:.2f}\".format(x) for x in ns[EVOLUTION_INTERVALS_PER_EPOCH::INTERVALS_PER_EPOCH]])"
   ]
  }
 ],
 "metadata": {
  "kernelspec": {
   "display_name": "barcoding",
   "language": "python",
   "name": "barcoding"
  },
  "language_info": {
   "codemirror_mode": {
    "name": "ipython",
    "version": 3
   },
   "file_extension": ".py",
   "mimetype": "text/x-python",
   "name": "python",
   "nbconvert_exporter": "python",
   "pygments_lexer": "ipython3",
   "version": "3.8.6"
  }
 },
 "nbformat": 4,
 "nbformat_minor": 4
}
