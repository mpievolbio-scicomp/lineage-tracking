{
 "cells": [
  {
   "cell_type": "code",
   "execution_count": 1,
   "metadata": {},
   "outputs": [],
   "source": [
    "%load_ext autoreload"
   ]
  },
  {
   "cell_type": "code",
   "execution_count": 2,
   "metadata": {},
   "outputs": [],
   "source": [
    "%autoreload 2"
   ]
  },
  {
   "cell_type": "code",
   "execution_count": 3,
   "metadata": {},
   "outputs": [],
   "source": [
    "from copy import deepcopy\n",
    "from matplotlib import pyplot\n",
    "from scipy import stats\n",
    "import logging\n",
    "import matplotlib\n",
    "import matplotlib.gridspec as gridspec\n",
    "import os\n",
    "import pandas\n",
    "import string, math, numpy\n",
    "import sys, os, glob, csv, re"
   ]
  },
  {
   "cell_type": "code",
   "execution_count": 4,
   "metadata": {},
   "outputs": [],
   "source": [
    "pyplot.style.use('dark_background')\n",
    "logging.basicConfig(level=logging.INFO)"
   ]
  },
  {
   "cell_type": "code",
   "execution_count": 5,
   "metadata": {},
   "outputs": [],
   "source": [
    "try:\n",
    "    from ltrack import config\n",
    "    import ltrack.lineage.inference_params as inference_params\n",
    "    import ltrack.lineage.file_parser as file_parser\n",
    "    from ltrack.lineage.fitness_estimator import *\n",
    "except ImportError:\n",
    "    print(\"Please install the LineageTracking package by running the command line 'pip install .' in the lineage_tracking repository's root directory.\")\n",
    "    raise\n",
    "except: raise"
   ]
  },
  {
   "cell_type": "code",
   "execution_count": 6,
   "metadata": {},
   "outputs": [],
   "source": [
    "project_name = os.path.basename(os.getcwd())"
   ]
  },
  {
   "cell_type": "code",
   "execution_count": 7,
   "metadata": {},
   "outputs": [],
   "source": [
    "population = project_name"
   ]
  },
  {
   "cell_type": "code",
   "execution_count": 8,
   "metadata": {},
   "outputs": [
    {
     "name": "stderr",
     "output_type": "stream",
     "text": [
      "INFO:root:Processing population LTtest.\n",
      "INFO:root:Reading files.\n",
      "INFO:root:Reading files complete.\n"
     ]
    }
   ],
   "source": [
    "timepoints, data, counts = file_parser.get_data(population, config.barcode_data_root_directory)"
   ]
  },
  {
   "cell_type": "code",
   "execution_count": 9,
   "metadata": {},
   "outputs": [],
   "source": [
    "kappas = file_parser.read_kappas_from_file(config.error_model_directory + population + '-kappas.tsv')"
   ]
  },
  {
   "cell_type": "code",
   "execution_count": 10,
   "metadata": {},
   "outputs": [],
   "source": [
    "fitness_estimator = FitnessEstimator(counts,kappas)"
   ]
  },
  {
   "cell_type": "code",
   "execution_count": 11,
   "metadata": {},
   "outputs": [],
   "source": [
    "max_barcode = config.max_barcode[population]    "
   ]
  },
  {
   "cell_type": "code",
   "execution_count": 12,
   "metadata": {},
   "outputs": [],
   "source": [
    "environment = 'evolution'\n",
    "barcoding = False"
   ]
  },
  {
   "cell_type": "code",
   "execution_count": 13,
   "metadata": {},
   "outputs": [
    {
     "name": "stderr",
     "output_type": "stream",
     "text": [
      "/home/grotec/Repositories/lineage-tracking/ltrack/lineage/fitness_estimator.py:60: RuntimeWarning: divide by zero encountered in log\n",
      "  (np.sqrt(expectations) - np.sqrt(observed[1:]))**2/self.k[begin:end-1]  + 0.75* np.log(observed[1:]) - 0.25* np.log(expectations)\n",
      "/home/grotec/Repositories/lineage-tracking/ltrack/lineage/fitness_estimator.py:199: RuntimeWarning: invalid value encountered in double_scalars\n",
      "  test_statistic.append(2*(neutral_llh - min_llh))\n",
      "/home/grotec/Repositories/lineage-tracking/ltrack/lineage/fitness_estimator.py:201: RuntimeWarning: invalid value encountered in double_scalars\n",
      "  empirical_null.append(2*(neutral_llh - min_llh))\n"
     ]
    }
   ],
   "source": [
    "q_values, empirical_null, t_statistic_95_percent_cutoff = determine_q_values(data,fitness_estimator,max_barcode - barcoding,barcoding = barcoding)"
   ]
  },
  {
   "cell_type": "code",
   "execution_count": 14,
   "metadata": {},
   "outputs": [
    {
     "name": "stderr",
     "output_type": "stream",
     "text": [
      "INFO:root:q value report.\n"
     ]
    },
    {
     "data": {
      "text/plain": [
       "<AxesSubplot:xlabel='Epoch'>"
      ]
     },
     "execution_count": 14,
     "metadata": {},
     "output_type": "execute_result"
    },
    {
     "data": {
      "image/png": "[encoded data removed]",
      "text/plain": [
       "<Figure size 432x288 with 1 Axes>"
      ]
     },
     "metadata": {},
     "output_type": "display_data"
    }
   ],
   "source": [
    "logging.info(\"q value report.\")\n",
    "pandas.Series(\n",
    "    q_values,\n",
    "    index=pandas.Index(\n",
    "        range(\n",
    "            len(\n",
    "                q_values\n",
    "            )\n",
    "        ),\n",
    "        name=\"Epoch\"\n",
    "    )\n",
    ").plot(style=\"o\")"
   ]
  },
  {
   "cell_type": "code",
   "execution_count": 15,
   "metadata": {},
   "outputs": [
    {
     "name": "stderr",
     "output_type": "stream",
     "text": [
      "INFO:root:t statistic 95 percent cutoff: 1.766780\n"
     ]
    }
   ],
   "source": [
    "logging.info(\"t statistic 95 percent cutoff: %f\", t_statistic_95_percent_cutoff)"
   ]
  },
  {
   "cell_type": "code",
   "execution_count": 16,
   "metadata": {},
   "outputs": [
    {
     "data": {
      "text/plain": [
       "Text(0, 0.5, 'Null model')"
      ]
     },
     "execution_count": 16,
     "metadata": {},
     "output_type": "execute_result"
    },
    {
     "data": {
      "image/png": "[encoded data removed]",
      "text/plain": [
       "<Figure size 720x720 with 1 Axes>"
      ]
     },
     "metadata": {},
     "output_type": "display_data"
    }
   ],
   "source": [
    "fig, ax = pyplot.subplots(figsize=(10,10))\n",
    "ax.bar(x=range(len(empirical_null)),height=empirical_null)\n",
    "ax.set_xlabel(\"Barcode index\")\n",
    "ax.set_ylabel(\"Null model\")\n"
   ]
  },
  {
   "cell_type": "code",
   "execution_count": 17,
   "metadata": {},
   "outputs": [],
   "source": [
    "with open(config.error_model_directory+'%s-q_values_%s.tsv' % (population,environment), 'w') as csvfile:\n",
    "    out_writer = csv.writer(csvfile, delimiter='\\t', quotechar='|', quoting=csv.QUOTE_MINIMAL)\n",
    "    out_writer.writerow([\"%f\" %x for x in q_values])\n",
    "    out_writer.writerow([inference_params.FDR])\n",
    "\n",
    "with open(config.error_model_directory+'%s-empirical_null_%s.tsv' % (population,environment), 'w') as csvfile:\n",
    "    out_writer = csv.writer(csvfile, delimiter='\\t', quotechar='|', quoting=csv.QUOTE_MINIMAL)\n",
    "    out_writer.writerow([\"%f\" %x for x in sorted(empirical_null)])"
   ]
  }
 ],
 "metadata": {
  "kernelspec": {
   "display_name": "barcoding",
   "language": "python",
   "name": "barcoding"
  },
  "language_info": {
   "codemirror_mode": {
    "name": "ipython",
    "version": 3
   },
   "file_extension": ".py",
   "mimetype": "text/x-python",
   "name": "python",
   "nbconvert_exporter": "python",
   "pygments_lexer": "ipython3",
   "version": "3.8.6"
  }
 },
 "nbformat": 4,
 "nbformat_minor": 4
}
