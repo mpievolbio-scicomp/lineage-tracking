{
 "cells": [
  {
   "cell_type": "code",
   "execution_count": 1,
   "metadata": {},
   "outputs": [],
   "source": [
    "%load_ext autoreload"
   ]
  },
  {
   "cell_type": "code",
   "execution_count": 2,
   "metadata": {},
   "outputs": [],
   "source": [
    "%autoreload 2"
   ]
  },
  {
   "cell_type": "code",
   "execution_count": 3,
   "metadata": {},
   "outputs": [],
   "source": [
    "from copy import deepcopy\n",
    "from matplotlib import pyplot\n",
    "from scipy import stats\n",
    "import logging\n",
    "import matplotlib\n",
    "import matplotlib.gridspec as gridspec\n",
    "import os\n",
    "import pandas\n",
    "import string, math, numpy\n",
    "import sys, os, glob, csv, re\n",
    "import subprocess"
   ]
  },
  {
   "cell_type": "code",
   "execution_count": 4,
   "metadata": {},
   "outputs": [],
   "source": [
    "#pyplot.style.use('dark_background')\n",
    "logging.basicConfig(level=logging.INFO)"
   ]
  },
  {
   "cell_type": "code",
   "execution_count": 5,
   "metadata": {},
   "outputs": [],
   "source": [
    "try:\n",
    "    from ltrack import config\n",
    "    import ltrack.lineage.inference_params as inference_params\n",
    "    import ltrack.lineage.file_parser as file_parser\n",
    "    from ltrack.lineage.fitness_estimator import *\n",
    "except ImportError:\n",
    "    print(\"Please install the LineageTracking package by running the command line 'pip install .' in the lineage_tracking repository's root directory.\")\n",
    "    raise\n",
    "except: raise"
   ]
  },
  {
   "cell_type": "code",
   "execution_count": 6,
   "metadata": {},
   "outputs": [],
   "source": [
    "project_name = os.path.basename(os.getcwd())"
   ]
  },
  {
   "cell_type": "code",
   "execution_count": 7,
   "metadata": {},
   "outputs": [],
   "source": [
    "population = project_name"
   ]
  },
  {
   "cell_type": "code",
   "execution_count": 8,
   "metadata": {},
   "outputs": [],
   "source": [
    "barcode_lists = {}"
   ]
  },
  {
   "cell_type": "code",
   "execution_count": 9,
   "metadata": {},
   "outputs": [
    {
     "name": "stderr",
     "output_type": "stream",
     "text": [
      "INFO:root:Processing population LTtest.\n",
      "INFO:root:Reading files.\n",
      "INFO:root:Reading files complete.\n"
     ]
    }
   ],
   "source": [
    "#read data\n",
    "timepoints, data, counts = file_parser.get_data(population, config.barcode_data_root_directory)\n",
    "max_barcode = config.max_barcode[population]"
   ]
  },
  {
   "cell_type": "code",
   "execution_count": 10,
   "metadata": {},
   "outputs": [],
   "source": [
    "#read kappas\n",
    "kappas = file_parser.read_kappas_from_file(config.error_model_directory+population+'-kappas.tsv')"
   ]
  },
  {
   "cell_type": "code",
   "execution_count": 11,
   "metadata": {},
   "outputs": [],
   "source": [
    "#loop through the different environments\n",
    "environment = 'evolution'"
   ]
  },
  {
   "cell_type": "code",
   "execution_count": 12,
   "metadata": {},
   "outputs": [],
   "source": [
    "#read empirical null distribution and q-values\n",
    "empirical_null, t_statistic_95_percent_cutoff = file_parser.read_empirical_null_from_file(\n",
    "                                                                        config.error_model_directory\n",
    "                                                                        +population\n",
    "                                                                        +'-empirical_null_%s.tsv'%environment)"
   ]
  },
  {
   "cell_type": "code",
   "execution_count": 13,
   "metadata": {},
   "outputs": [],
   "source": [
    "qvals = file_parser.read_q_values_from_file(config.error_model_directory+population+'-q_values_%s.tsv'%environment)"
   ]
  },
  {
   "cell_type": "code",
   "execution_count": 14,
   "metadata": {},
   "outputs": [],
   "source": [
    "#initialize fitness estimator object\n",
    "fitness_estimator = FitnessEstimator(counts, kappas, \n",
    "                                        qvals = qvals,\n",
    "                                        t_statistic_95_percent_cutoff = t_statistic_95_percent_cutoff,\n",
    "                                        empirical_null = empirical_null\n",
    "                                    )"
   ]
  },
  {
   "cell_type": "code",
   "execution_count": 15,
   "metadata": {},
   "outputs": [],
   "source": [
    "barcoding = False"
   ]
  },
  {
   "cell_type": "code",
   "execution_count": 16,
   "metadata": {},
   "outputs": [],
   "source": [
    "#estimate relative fitnesses\n",
    "#ensure all lineage fitnesses are zero to start with\n",
    "for dataset in range(0,max_barcode):\n",
    "    for parent_id in data[dataset].keys():\n",
    "        for bcd, lineage in data[dataset][parent_id].items():\n",
    "            lineage.relative_fitness = np.zeros(len(lineage.freqs)//INTERVALS_PER_EPOCH)\n",
    "            lineage.relative_fitness_CI = [(0,0) for i in range(0,len(lineage.relative_fitness))]"
   ]
  },
  {
   "cell_type": "code",
   "execution_count": 17,
   "metadata": {},
   "outputs": [],
   "source": [
    "fitness_estimator.population_fitness = numpy.zeros(len(fitness_estimator.population_fitness))"
   ]
  },
  {
   "cell_type": "code",
   "execution_count": 18,
   "metadata": {},
   "outputs": [
    {
     "name": "stderr",
     "output_type": "stream",
     "text": [
      "INFO:root:Target epoch is 0.\n",
      "INFO:root:re-estimating... (it = 2)\n",
      "INFO:root:re-estimating... (it = 3)\n",
      "INFO:root:re-estimating... (it = 4)\n",
      "INFO:root:re-estimating... (it = 5)\n",
      "INFO:root:Target epoch is 1.\n",
      "INFO:root:re-estimating... (it = 2)\n"
     ]
    }
   ],
   "source": [
    "for target_epoch in range(0,max_barcode-barcoding):\n",
    "    logging.info(\"Target epoch is %d.\", target_epoch)\n",
    "\n",
    "    converged = False\n",
    "    it = 0\n",
    "\n",
    "    while not converged and it < 40:\n",
    "\n",
    "        if it > 0:\n",
    "            logging.info(\"re-estimating... (it = %d)\", it + 1)\n",
    "        it +=1\n",
    "\n",
    "        converged = True\n",
    "\n",
    "        for using_barcode in range(0,target_epoch+1):\n",
    "\n",
    "            begin, end = fitness_estimator.get_interval_endpoints(target_epoch, barcoding = barcoding)\n",
    "            max_mean_fitness =deepcopy(fitness_estimator.population_fitness[begin:end])\n",
    "\n",
    "            for parent_id in data[using_barcode].keys():\n",
    "                for bcd, lineage in data[using_barcode][parent_id].items():\n",
    "                    fitness_estimator.update_lineage_fitness(lineage, target_epoch, barcoding = barcoding)\n",
    "\n",
    "            fitness_estimator.update_mean_fitness(data[using_barcode], target_epoch, barcoding = barcoding)\n",
    "\n",
    "            if fitness_estimator.population_fitness[end-1] > max_mean_fitness[-1] + 10**-6:\n",
    "                converged = False\n",
    "            else:\n",
    "                fitness_estimator.population_fitness[begin:end] = max_mean_fitness"
   ]
  },
  {
   "cell_type": "code",
   "execution_count": 19,
   "metadata": {},
   "outputs": [],
   "source": [
    "\n",
    "barcode_lists.update({environment:[]})"
   ]
  },
  {
   "cell_type": "code",
   "execution_count": null,
   "metadata": {},
   "outputs": [],
   "source": []
  },
  {
   "cell_type": "code",
   "execution_count": 20,
   "metadata": {},
   "outputs": [
    {
     "name": "stderr",
     "output_type": "stream",
     "text": [
      "INFO:root:A total of 14444 barcodes in the __evolution__ environment have been found.\n"
     ]
    }
   ],
   "source": [
    "for using_barcode in range(1,max_barcode+1):\n",
    "    \n",
    "    with open(config.lineage_fitness_estimate_directory+'%s-BC%d_%s_fitnesses.csv' % \n",
    "                                            (population,using_barcode,environment), 'w') as csvfile:\n",
    "        out_writer = csv.writer(csvfile, delimiter='\\t', quotechar='|', quoting=csv.QUOTE_MINIMAL)\n",
    "        out_writer.writerow(['BC'] + ['Epoch%d' % (d+1) for d in range(using_barcode-1,10)])\n",
    "\n",
    "        for parent_id in data[using_barcode - 1].keys():\n",
    "            for bcd, lineage in data[using_barcode - 1][parent_id].items():\n",
    "                # if any(lineage.relative_fitness > 0):\n",
    "                if True:\n",
    "                    barcode_lists[environment].append(lineage.ID)\n",
    "\n",
    "                    row = [lineage.ID]\n",
    "                    fitnesses = numpy.zeros(3*len(lineage.relative_fitness))\n",
    "                    fitnesses[::3] = lineage.relative_fitness\n",
    "                    fitnesses[1::3] = [lower[0] for lower in lineage.relative_fitness_CI]\n",
    "                    fitnesses[2::3] = [upper[1] for upper in lineage.relative_fitness_CI]\n",
    "                    \n",
    "                    row.extend(fitnesses.tolist())\n",
    "                    \n",
    "                    out_writer.writerow(row)\n",
    "                    \n",
    "logging.info('A total of %d barcodes in the __evolution__ environment have been found.', len(barcode_lists['evolution']))    "
   ]
  },
  {
   "cell_type": "code",
   "execution_count": 30,
   "metadata": {},
   "outputs": [
    {
     "data": {
      "image/png": "[encoded data removed]",
      "text/plain": [
       "<Figure size 1080x720 with 3 Axes>"
      ]
     },
     "metadata": {
      "needs_background": "light"
     },
     "output_type": "display_data"
    }
   ],
   "source": [
    "idx = pandas.IndexSlice\n",
    "using_barcode=1\n",
    "iterables = [[\"Epoch {0:d}\".format(epoch) for epoch in range(using_barcode,max_barcode+1)],\n",
    "             [\"fitness_mean\", \"fitness_CI_min\", \"fitness_CI_max\"]\n",
    "            ]\n",
    "columns = pandas.MultiIndex.from_product(iterables, names=['Epoch', 'fitness'])\n",
    "fitnesses = pandas.read_csv(\n",
    "    os.path.join(\n",
    "        config.lineage_fitness_estimate_directory,'{}-BC{}_{}_fitnesses.csv'.format(\n",
    "            population,\n",
    "            using_barcode,\n",
    "            'evolution'\n",
    "        )\n",
    "    ),\n",
    "    sep='\\t',\n",
    "    index_col=0,\n",
    ")\n",
    "fitnesses.dropna(inplace=True, axis='columns')\n",
    "fitnesses = fitnesses.iloc[:, :3*(max_barcode+1-using_barcode)]\n",
    "fitnesses.columns = columns\n",
    "\n",
    "for epoch in set(columns.get_level_values(level=\"Epoch\")):\n",
    "    fitnesses[(epoch, 'fitness_CI')] = fitnesses[(epoch, \"fitness_CI_max\")] - fitnesses[(epoch, \"fitness_CI_min\")]\n",
    "\n",
    "fitnesses.sort_index(level=\"Epoch\", inplace=True, axis=1)\n",
    "\n",
    "fig, axs = pyplot.subplots(2,len(set(fitnesses.columns.get_level_values(level=\"Epoch\"))), figsize=(15,10))\n",
    "gridspec = axs[1,0].get_gridspec()\n",
    "for ax in axs[1,:]:\n",
    "    ax.remove()\n",
    "joined_ax = fig.add_subplot(gridspec[1,:])  \n",
    "max_freq = 0.0\n",
    "epochs = sorted(set(fitnesses.columns.get_level_values(level=\"Epoch\")))\n",
    "colors=['r','b']\n",
    "for iepoch,epoch in enumerate(epochs):\n",
    "    tmp = fitnesses.loc[::-1,idx[epoch,[\"fitness_mean\", \"fitness_CI\"]]]\n",
    "    tmp.columns = tmp.columns.droplevel(level=\"Epoch\")\n",
    "    tmp.sort_values(by=\"fitness_mean\",axis='index', ascending=False, inplace=True)\n",
    "    tmp.head(10).iloc[::-1,:].plot.barh(ax=axs[0,iepoch],\n",
    "                  y=\"fitness_mean\",\n",
    "                  yerr=\"fitness_CI\",\n",
    "                  legend=False,\n",
    "                  title=\"Relative fitness in {}\".format(epoch),\n",
    "                 )\n",
    "\n",
    "    top10 = [list(data[0].values())[0][bc] for bc in  tmp.head(10).index]\n",
    "    begin, end = interval_endpoints(iepoch) \n",
    "    for lineage in top10:\n",
    "        tmp_max = lineage.freqs.max()\n",
    "        if tmp_max > max_freq:\n",
    "            max_freq = tmp_max\n",
    "        joined_ax.plot(range(1,len(lineage.freqs)+1),lineage.freqs,label=lineage.ID) \n",
    "#         joined_ax.fill([begin, end, end, begin], [0, 0, max_freq, max_freq], color=colors[iepoch%2])\n",
    "        joined_ax.axvline(x=end, ymin=0, ymax=1, color='k')\n",
    "#     joined_ax.legend()\n",
    "# Get top 10 lineages and plot them over time in epoch.\n",
    "fig.savefig(\"/tmp/fitness.png\")"
   ]
  },
  {
   "cell_type": "code",
   "execution_count": null,
   "metadata": {},
   "outputs": [],
   "source": []
  },
  {
   "cell_type": "code",
   "execution_count": null,
   "metadata": {},
   "outputs": [],
   "source": []
  }
 ],
 "metadata": {
  "kernelspec": {
   "display_name": "barcoding",
   "language": "python",
   "name": "barcoding"
  },
  "language_info": {
   "codemirror_mode": {
    "name": "ipython",
    "version": 3
   },
   "file_extension": ".py",
   "mimetype": "text/x-python",
   "name": "python",
   "nbconvert_exporter": "python",
   "pygments_lexer": "ipython3",
   "version": "3.8.6"
  }
 },
 "nbformat": 4,
 "nbformat_minor": 4
}
