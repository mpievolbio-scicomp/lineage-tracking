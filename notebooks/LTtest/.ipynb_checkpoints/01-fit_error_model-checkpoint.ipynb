{
 "cells": [
  {
   "cell_type": "code",
   "execution_count": 1,
   "metadata": {},
   "outputs": [],
   "source": [
    "import sys, os, glob, csv, re\n",
    "import string, math, numpy\n",
    "import os"
   ]
  },
  {
   "cell_type": "code",
   "execution_count": 6,
   "metadata": {},
   "outputs": [],
   "source": [
    "try:\n",
    "    from ltrack import config\n",
    "    import ltrack.lineage.inference_params as inference_params\n",
    "    import ltrack.lineage.file_parser as file_parser\n",
    "except ImportError:\n",
    "    print(\"Please install the LineageTracking package by running the command line 'pip install .' in the lineage_tracking repository's root directory.\")\n",
    "    raise\n",
    "except: raise"
   ]
  },
  {
   "cell_type": "code",
   "execution_count": 7,
   "metadata": {},
   "outputs": [],
   "source": [
    "project_name = 'LTest'"
   ]
  },
  {
   "cell_type": "code",
   "execution_count": 8,
   "metadata": {},
   "outputs": [],
   "source": [
    "# look only at lineages within specified size range\n",
    "drifting_lineage_size_range = inference_params.drifting_lineage_size_range"
   ]
  },
  {
   "cell_type": "code",
   "execution_count": 9,
   "metadata": {},
   "outputs": [],
   "source": [
    "INTERVALS_PER_EPOCH = inference_params.INTERVALS_PER_EPOCH\n",
    "EVOLUTION_INTERVALS_PER_EPOCH = inference_params.EVOLUTION_INTERVALS_PER_EPOCH\n",
    "NUMBER_OF_EPOCHS = inference_params.NUMBER_OF_EPOCHS"
   ]
  },
  {
   "cell_type": "code",
   "execution_count": 10,
   "metadata": {},
   "outputs": [],
   "source": [
    "population = [project_name]"
   ]
  },
  {
   "cell_type": "code",
   "execution_count": 11,
   "metadata": {},
   "outputs": [
    {
     "ename": "TypeError",
     "evalue": "can only concatenate str (not \"list\") to str",
     "output_type": "error",
     "traceback": [
      "\u001b[0;31m---------------------------------------------------------------------------\u001b[0m",
      "\u001b[0;31mTypeError\u001b[0m                                 Traceback (most recent call last)",
      "\u001b[0;32m<ipython-input-11-8f6e6c26aa4b>\u001b[0m in \u001b[0;36m<module>\u001b[0;34m\u001b[0m\n\u001b[0;32m----> 1\u001b[0;31m \u001b[0mtimepoints\u001b[0m\u001b[0;34m,\u001b[0m \u001b[0mdata\u001b[0m\u001b[0;34m,\u001b[0m \u001b[0mcounts\u001b[0m \u001b[0;34m=\u001b[0m \u001b[0mfile_parser\u001b[0m\u001b[0;34m.\u001b[0m\u001b[0mget_data\u001b[0m\u001b[0;34m(\u001b[0m\u001b[0mpopulation\u001b[0m\u001b[0;34m,\u001b[0m \u001b[0mconfig\u001b[0m\u001b[0;34m.\u001b[0m\u001b[0mbarcode_data_root_directory\u001b[0m\u001b[0;34m,\u001b[0m \u001b[0mas_matrix\u001b[0m \u001b[0;34m=\u001b[0m \u001b[0;32mTrue\u001b[0m\u001b[0;34m)\u001b[0m\u001b[0;34m\u001b[0m\u001b[0;34m\u001b[0m\u001b[0m\n\u001b[0m",
      "\u001b[0;32m~/Repositories/lineage-tracking/ltrack/lineage/file_parser.py\u001b[0m in \u001b[0;36mget_data\u001b[0;34m(population, root_path, fitness_files, as_matrix)\u001b[0m\n\u001b[1;32m     83\u001b[0m \u001b[0;32mdef\u001b[0m \u001b[0mget_data\u001b[0m\u001b[0;34m(\u001b[0m\u001b[0mpopulation\u001b[0m\u001b[0;34m,\u001b[0m\u001b[0mroot_path\u001b[0m\u001b[0;34m,\u001b[0m\u001b[0mfitness_files\u001b[0m \u001b[0;34m=\u001b[0m \u001b[0;32mNone\u001b[0m\u001b[0;34m,\u001b[0m\u001b[0mas_matrix\u001b[0m \u001b[0;34m=\u001b[0m \u001b[0;32mFalse\u001b[0m\u001b[0;34m)\u001b[0m\u001b[0;34m:\u001b[0m\u001b[0;34m\u001b[0m\u001b[0;34m\u001b[0m\u001b[0m\n\u001b[1;32m     84\u001b[0m     \u001b[0;31m# input location\u001b[0m\u001b[0;34m\u001b[0m\u001b[0;34m\u001b[0m\u001b[0;34m\u001b[0m\u001b[0m\n\u001b[0;32m---> 85\u001b[0;31m     \u001b[0mdirectory\u001b[0m \u001b[0;34m=\u001b[0m \u001b[0mroot_path\u001b[0m \u001b[0;34m+\u001b[0m \u001b[0mpopulation\u001b[0m \u001b[0;34m+\u001b[0m\u001b[0;34m'/'\u001b[0m\u001b[0;34m\u001b[0m\u001b[0;34m\u001b[0m\u001b[0m\n\u001b[0m\u001b[1;32m     86\u001b[0m \u001b[0;34m\u001b[0m\u001b[0m\n\u001b[1;32m     87\u001b[0m     \u001b[0;31m# check that this directory exists\u001b[0m\u001b[0;34m\u001b[0m\u001b[0;34m\u001b[0m\u001b[0;34m\u001b[0m\u001b[0m\n",
      "\u001b[0;31mTypeError\u001b[0m: can only concatenate str (not \"list\") to str"
     ]
    }
   ],
   "source": [
    "timepoints, data, counts = file_parser.get_data(\n",
    "    population,\n",
    "    config.barcode_data_root_directory,\n",
    "    as_matrix = True\n",
    ")"
   ]
  },
  {
   "cell_type": "code",
   "execution_count": 1,
   "metadata": {},
   "outputs": [],
   "source": [
    "count_data = [data[i]*counts[INTERVALS_PER_EPOCH*i:] for i in range(0,len(data))]"
   ]
  },
  {
   "cell_type": "code",
   "execution_count": 1,
   "metadata": {},
   "outputs": [],
   "source": [
    "max_barcode = config.max_barcode[population]\n",
    "# sort count data on min size in first epoch"
   ]
  },
  {
   "cell_type": "code",
   "execution_count": 1,
   "metadata": {},
   "outputs": [],
   "source": [
    "arrinds= [numpy.argsort(numpy.min(count_data[i].T[:INTERVALS_PER_EPOCH],axis = 0)) for i in range(0,len(data))]\n",
    "sorted_mins = [numpy.min(count_data[i].T[:INTERVALS_PER_EPOCH],axis = 0)[arrinds[i][::-1]] for i in range(0,len(data))]\n",
    "sorted_count_data = [count_data[i][arrinds[i][::-1]] for i in range(0,len(data))]"
   ]
  },
  {
   "cell_type": "code",
   "execution_count": 1,
   "metadata": {},
   "outputs": [],
   "source": [
    "sys.stderr.write('\\tfitting kappas...\\n')\n",
    "\n",
    "kappas = numpy.zeros(len(timepoints[0])-1)\n",
    "kappa_errors = numpy.zeros(len(timepoints[0])-1)\n",
    "ns = numpy.zeros(len(timepoints[0])-1)"
   ]
  },
  {
   "cell_type": "code",
   "execution_count": 1,
   "metadata": {},
   "outputs": [],
   "source": [
    "for timepoint in range(0,max_barcode*INTERVALS_PER_EPOCH-1):\n",
    "#     for timepoint in range(0,NUMBER_OF_EPOCHS*INTERVALS_PER_EPOCH-1):\n",
    "\n",
    "    epoch = timepoint // INTERVALS_PER_EPOCH\n",
    "    t = timepoint % INTERVALS_PER_EPOCH\n",
    "\n",
    "    counts_before, counts_after = sorted_count_data[epoch].T[t],sorted_count_data[epoch].T[t+1]\n",
    "    counts_before = numpy.asarray(counts_before,dtype = float)\n",
    "    counts_after = numpy.asarray(counts_after,dtype = float)\n",
    "\n",
    "    before_filter = numpy.logical_and(counts_before <= drifting_lineage_size_range[1], counts_before >= drifting_lineage_size_range[0])\n",
    "    counts_after = counts_after[before_filter]\n",
    "    counts_before = counts_before[before_filter]\n",
    "    scaled_counts_before = counts_before * counts[INTERVALS_PER_EPOCH*epoch+t+1]/counts[INTERVALS_PER_EPOCH*epoch+t]\n",
    "    n = len(counts_before)\n",
    "\n",
    "    kappas[INTERVALS_PER_EPOCH*epoch + t] = 2* ((numpy.sqrt(counts_after) - numpy.sqrt(scaled_counts_before))**2).sum()/n\n",
    "    kappa_errors[INTERVALS_PER_EPOCH*epoch+t] =kappas[INTERVALS_PER_EPOCH*epoch + t]* numpy.sqrt(2./n)\n",
    "    ns[INTERVALS_PER_EPOCH*epoch+t] = n"
   ]
  },
  {
   "cell_type": "code",
   "execution_count": 1,
   "metadata": {},
   "outputs": [],
   "source": [
    "# Fix zeroes as these will cause DivideByZeros later.\n",
    "zero_kappas =  kappas==0.0\n",
    "kappas[zero_kappas] = 100.0\n",
    "kappa_errors[zero_kappas] = 10.0\n",
    "kappa_CI_lower = kappas - 2 *kappa_errors\n",
    "kappa_CI_upper = kappas + 2* kappa_errors"
   ]
  },
  {
   "cell_type": "code",
   "execution_count": 1,
   "metadata": {},
   "outputs": [],
   "source": [
    "with open(config.error_model_directory+'%s-kappas.tsv' % (population), 'w') as csvfile:\n",
    "    out_writer = csv.writer(csvfile, delimiter='\\t', quotechar='|', quoting=csv.QUOTE_MINIMAL)\n",
    "    out_writer.writerow(timepoints[0][1:])\n",
    "    out_writer.writerow([\"{0:.2f}\".format(x) for x in kappas])\n",
    "    out_writer.writerow([\"{0:.2f}\".format(x) for x in kappa_CI_lower])\n",
    "    out_writer.writerow([\"{0:.2f}\".format(x) for x in kappa_CI_upper])\n",
    "    out_writer.writerow([\"{0:.2f}\".format(x) for x in ns])"
   ]
  },
  {
   "cell_type": "code",
   "execution_count": 1,
   "metadata": {},
   "outputs": [],
   "source": [
    "with open(config.error_model_directory+'%s-kappas-barcoding.tsv' % (population), 'w') as csvfile:\n",
    "    out_writer = csv.writer(csvfile, delimiter='\\t', quotechar='|', quoting=csv.QUOTE_MINIMAL)\n",
    "    out_writer.writerow(timepoints[0][INTERVALS_PER_EPOCH::INTERVALS_PER_EPOCH])\n",
    "    out_writer.writerow([\"{0:.2f}\".format(x) for x in kappas[EVOLUTION_INTERVALS_PER_EPOCH::INTERVALS_PER_EPOCH]])\n",
    "    out_writer.writerow([\"{0:.2f}\".format(x) for x in kappa_CI_lower[EVOLUTION_INTERVALS_PER_EPOCH::INTERVALS_PER_EPOCH]])\n",
    "    out_writer.writerow([\"{0:.2f}\".format(x) for x in ns[EVOLUTION_INTERVALS_PER_EPOCH::INTERVALS_PER_EPOCH]])"
   ]
  }
 ],
 "metadata": {
  "kernelspec": {
   "display_name": "barcoding",
   "language": "python",
   "name": "barcoding"
  },
  "language_info": {
   "codemirror_mode": {
    "name": "ipython",
    "version": 3
   },
   "file_extension": ".py",
   "mimetype": "text/x-python",
   "name": "python",
   "nbconvert_exporter": "python",
   "pygments_lexer": "ipython3",
   "version": "3.8.6"
  }
 },
 "nbformat": 4,
 "nbformat_minor": 4
}
